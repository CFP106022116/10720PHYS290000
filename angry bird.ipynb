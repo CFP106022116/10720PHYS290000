{
 "cells": [
  {
   "cell_type": "code",
   "execution_count": null,
   "metadata": {},
   "outputs": [],
   "source": [
    "import numpy as np\n",
    "import matplotlib.pyplot as plt\n",
    "import math\n",
    "import random\n",
    "Vo = 100\n",
    "seta = 0.5\n",
    "g = 9.8\n",
    "a = 2*Vo*math.sin(seta)/g\n",
    "b = 2*Vo*math.sin(seta)/g*Vo*math.cos(seta)\n",
    "t = np.arange(0,a,0.01)\n",
    "x = Vo*(np.cos(seta))*t\n",
    "y = Vo*(np.sin(seta))*t+1/2*(-g)*t**2\n",
    "aa = int(a)\n",
    "bb = int(b)\n",
    "pigx = random.randint(0,bb)\n",
    "pigy = random.randint(0,aa)\n",
    "plt.plot(x,y)  \n",
    "plt.plot(pigx,pigy,\"o\")\n",
    "print(pigx,pigy)"
   ]
  }
 ],
 "metadata": {
  "kernelspec": {
   "display_name": "Python 3",
   "language": "python",
   "name": "python3"
  },
  "language_info": {
   "codemirror_mode": {
    "name": "ipython",
    "version": 3
   },
   "file_extension": ".py",
   "mimetype": "text/x-python",
   "name": "python",
   "nbconvert_exporter": "python",
   "pygments_lexer": "ipython3",
   "version": "3.6.3"
  }
 },
 "nbformat": 4,
 "nbformat_minor": 2
}
